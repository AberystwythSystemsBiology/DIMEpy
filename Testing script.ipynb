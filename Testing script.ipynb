{
 "cells": [
  {
   "cell_type": "code",
   "execution_count": 1,
   "metadata": {},
   "outputs": [],
   "source": [
    "import dimspy\n",
    "import os\n",
    "import cPickle as pickle\n",
    "import matplotlib.pyplot as plt\n",
    "\n",
    "data_directory = \"/home/keo7/Data/dimspy-example/\""
   ]
  },
  {
   "cell_type": "code",
   "execution_count": 2,
   "metadata": {},
   "outputs": [],
   "source": [
    "spectrum_list = dimspy.SpectrumList()\n",
    "\n",
    "parameters = {\n",
    "    \"MS1 Precision\" : 1e-6,\n",
    "    \"MSn Precision\" : 1e-6,\n",
    "    \"Measured Precision\" : 0.01,\n",
    "    \"Scan Range\" : \"apex\",\n",
    "    \"Peak Type\" : \"peaks\"\n",
    "}\n",
    "\n",
    "for index, file in enumerate(os.listdir(data_directory)):\n",
    "    if file.endswith(\".p\"):\n",
    "        pass\n",
    "    else:\n",
    "        spectrum = dimspy.Spectrum(os.path.join(data_directory, file),\n",
    "                                   polarity=\"negative\",\n",
    "                                   injection_order=index,\n",
    "                                   parameters=parameters)\n",
    "        spectrum_list.append(spectrum)"
   ]
  },
  {
   "cell_type": "code",
   "execution_count": 3,
   "metadata": {},
   "outputs": [],
   "source": [
    "processor = dimspy.SpectrumListProcessor(spectrum_list)\n",
    "\n",
    "processor.binning(bin_size=0.25, n_jobs=8, statistic=\"mean\")\n",
    "processor.center(n_jobs=8)\n",
    "processor.value_imputation(method=\"all\")\n",
    "\n"
   ]
  },
  {
   "cell_type": "code",
   "execution_count": null,
   "metadata": {},
   "outputs": [],
   "source": []
  },
  {
   "cell_type": "code",
   "execution_count": null,
   "metadata": {},
   "outputs": [],
   "source": [
    "for spectrum in processor.to_list():\n",
    "    spectrum.transform(method=\"LOG10\")\n",
    "    spectrum.normalise(method=\"TIC\")\n",
    "    \n",
    "processor.to_spectrumlist().flatten_to_dataframe()"
   ]
  },
  {
   "cell_type": "code",
   "execution_count": null,
   "metadata": {},
   "outputs": [],
   "source": [
    "processor.scale(method=\"mc\", n_jobs=8)"
   ]
  },
  {
   "cell_type": "code",
   "execution_count": 4,
   "metadata": {},
   "outputs": [
    {
     "data": {
      "text/html": [
       "<div>\n",
       "<style>\n",
       "    .dataframe thead tr:only-child th {\n",
       "        text-align: right;\n",
       "    }\n",
       "\n",
       "    .dataframe thead th {\n",
       "        text-align: left;\n",
       "    }\n",
       "\n",
       "    .dataframe tbody tr th {\n",
       "        vertical-align: top;\n",
       "    }\n",
       "</style>\n",
       "<table border=\"1\" class=\"dataframe\">\n",
       "  <thead>\n",
       "    <tr style=\"text-align: right;\">\n",
       "      <th></th>\n",
       "      <th>63.0</th>\n",
       "      <th>63.25</th>\n",
       "      <th>63.5</th>\n",
       "      <th>63.75</th>\n",
       "      <th>64.0</th>\n",
       "      <th>64.25</th>\n",
       "      <th>64.5</th>\n",
       "      <th>64.75</th>\n",
       "      <th>65.0</th>\n",
       "      <th>65.5</th>\n",
       "      <th>...</th>\n",
       "      <th>973.75</th>\n",
       "      <th>974.75</th>\n",
       "      <th>975.25</th>\n",
       "      <th>976.75</th>\n",
       "      <th>983.0</th>\n",
       "      <th>983.25</th>\n",
       "      <th>984.25</th>\n",
       "      <th>985.5</th>\n",
       "      <th>985.75</th>\n",
       "      <th>987.25</th>\n",
       "    </tr>\n",
       "  </thead>\n",
       "  <tbody>\n",
       "    <tr>\n",
       "      <th>dirty1</th>\n",
       "      <td>2396.112157</td>\n",
       "      <td>2732.816241</td>\n",
       "      <td>2503.120158</td>\n",
       "      <td>3175.701993</td>\n",
       "      <td>2491.519797</td>\n",
       "      <td>3376.372728</td>\n",
       "      <td>2379.278348</td>\n",
       "      <td>3893.959818</td>\n",
       "      <td>3700.909270</td>\n",
       "      <td>2791.478938</td>\n",
       "      <td>...</td>\n",
       "      <td>NaN</td>\n",
       "      <td>1612.164247</td>\n",
       "      <td>1825.696325</td>\n",
       "      <td>1618.936623</td>\n",
       "      <td>1529.554299</td>\n",
       "      <td>1421.738311</td>\n",
       "      <td>1908.985857</td>\n",
       "      <td>1584.202861</td>\n",
       "      <td>NaN</td>\n",
       "      <td>1416.757963</td>\n",
       "    </tr>\n",
       "    <tr>\n",
       "      <th>C027</th>\n",
       "      <td>2924.869854</td>\n",
       "      <td>2634.743070</td>\n",
       "      <td>2922.570909</td>\n",
       "      <td>20896.654813</td>\n",
       "      <td>3609.012422</td>\n",
       "      <td>5075.712325</td>\n",
       "      <td>2879.633353</td>\n",
       "      <td>2323.207101</td>\n",
       "      <td>3371.072612</td>\n",
       "      <td>2921.084247</td>\n",
       "      <td>...</td>\n",
       "      <td>3292.982632</td>\n",
       "      <td>NaN</td>\n",
       "      <td>NaN</td>\n",
       "      <td>NaN</td>\n",
       "      <td>NaN</td>\n",
       "      <td>NaN</td>\n",
       "      <td>NaN</td>\n",
       "      <td>1508.524129</td>\n",
       "      <td>1047.903387</td>\n",
       "      <td>NaN</td>\n",
       "    </tr>\n",
       "  </tbody>\n",
       "</table>\n",
       "<p>2 rows × 3006 columns</p>\n",
       "</div>"
      ],
      "text/plain": [
       "             63.00        63.25        63.50         63.75        64.00   \\\n",
       "dirty1  2396.112157  2732.816241  2503.120158   3175.701993  2491.519797   \n",
       "C027    2924.869854  2634.743070  2922.570909  20896.654813  3609.012422   \n",
       "\n",
       "             64.25        64.50        64.75        65.00        65.50   \\\n",
       "dirty1  3376.372728  2379.278348  3893.959818  3700.909270  2791.478938   \n",
       "C027    5075.712325  2879.633353  2323.207101  3371.072612  2921.084247   \n",
       "\n",
       "           ...            973.75       974.75       975.25       976.75  \\\n",
       "dirty1     ...               NaN  1612.164247  1825.696325  1618.936623   \n",
       "C027       ...       3292.982632          NaN          NaN          NaN   \n",
       "\n",
       "             983.00       983.25       984.25       985.50       985.75  \\\n",
       "dirty1  1529.554299  1421.738311  1908.985857  1584.202861          NaN   \n",
       "C027            NaN          NaN          NaN  1508.524129  1047.903387   \n",
       "\n",
       "             987.25  \n",
       "dirty1  1416.757963  \n",
       "C027            NaN  \n",
       "\n",
       "[2 rows x 3006 columns]"
      ]
     },
     "execution_count": 4,
     "metadata": {},
     "output_type": "execute_result"
    }
   ],
   "source": [
    "processor.to_spectrumlist().flatten_to_dataframe()"
   ]
  },
  {
   "cell_type": "code",
   "execution_count": null,
   "metadata": {},
   "outputs": [],
   "source": []
  },
  {
   "cell_type": "code",
   "execution_count": null,
   "metadata": {},
   "outputs": [],
   "source": []
  }
 ],
 "metadata": {
  "kernelspec": {
   "display_name": "Python 2",
   "language": "python",
   "name": "python2"
  },
  "language_info": {
   "codemirror_mode": {
    "name": "ipython",
    "version": 2
   },
   "file_extension": ".py",
   "mimetype": "text/x-python",
   "name": "python",
   "nbconvert_exporter": "python",
   "pygments_lexer": "ipython2",
   "version": "2.7.12"
  }
 },
 "nbformat": 4,
 "nbformat_minor": 2
}
