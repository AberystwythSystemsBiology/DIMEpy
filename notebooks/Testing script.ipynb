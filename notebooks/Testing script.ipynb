{
 "cells": [
  {
   "cell_type": "code",
   "execution_count": 1,
   "metadata": {},
   "outputs": [],
   "source": [
    "import dimspy\n",
    "import os\n",
    "import cPickle as pickle\n",
    "\n",
    "data_directory = \"/home/keo7/Data/dimspy-example/\""
   ]
  },
  {
   "cell_type": "code",
   "execution_count": 2,
   "metadata": {},
   "outputs": [],
   "source": [
    "spectrum_list = dimspy.SpectrumList()\n",
    "\n",
    "parameters = {\n",
    "    \"MS1 Precision\" : 1e-6,\n",
    "    \"MSn Precision\" : 1e-6,\n",
    "    \"Measured Precision\" : 0.01,\n",
    "    \"Scan Range\" : \"apex\",\n",
    "    \"Peak Type\" : \"peaks\"\n",
    "}\n",
    "\n",
    "for index, file in enumerate(os.listdir(data_directory)):\n",
    "    if file.endswith(\".p\"):\n",
    "        pass\n",
    "    else:\n",
    "        spectrum = dimspy.Spectrum(os.path.join(data_directory, file),\n",
    "                                   polarity=\"positive\",\n",
    "                                   injection_order=index,\n",
    "                                   parameters=parameters)\n",
    "        spectrum_list.append(spectrum)"
   ]
  },
  {
   "cell_type": "code",
   "execution_count": 10,
   "metadata": {},
   "outputs": [],
   "source": [
    "pickle.dump(spectrum_list, open(os.path.join(data_directory, \"sl.p\"), \"wb\"), -1)"
   ]
  },
  {
   "cell_type": "code",
   "execution_count": 50,
   "metadata": {},
   "outputs": [],
   "source": [
    "spectrum_list = pickle.load(open(os.path.join(data_directory, \"sl.p\"), \"rb\"))"
   ]
  },
  {
   "cell_type": "code",
   "execution_count": 51,
   "metadata": {},
   "outputs": [
    {
     "data": {
      "text/plain": [
       "[<dimspy.Spectrum.Spectrum at 0x7f1e830ea510>,\n",
       " <dimspy.Spectrum.Spectrum at 0x7f1e84941850>,\n",
       " <dimspy.Spectrum.Spectrum at 0x7f1e84941350>,\n",
       " <dimspy.Spectrum.Spectrum at 0x7f1e84941790>,\n",
       " <dimspy.Spectrum.Spectrum at 0x7f1e84941e10>,\n",
       " <dimspy.Spectrum.Spectrum at 0x7f1e84dcd850>,\n",
       " <dimspy.Spectrum.Spectrum at 0x7f1e84dcd990>,\n",
       " <dimspy.Spectrum.Spectrum at 0x7f1e84dcd950>,\n",
       " <dimspy.Spectrum.Spectrum at 0x7f1e84dcd810>,\n",
       " <dimspy.Spectrum.Spectrum at 0x7f1e83e18290>,\n",
       " <dimspy.Spectrum.Spectrum at 0x7f1e83e18250>,\n",
       " <dimspy.Spectrum.Spectrum at 0x7f1e82fc2bd0>]"
      ]
     },
     "execution_count": 51,
     "metadata": {},
     "output_type": "execute_result"
    }
   ],
   "source": [
    "spectrum_list.to_list()"
   ]
  },
  {
   "cell_type": "code",
   "execution_count": 52,
   "metadata": {
    "scrolled": true
   },
   "outputs": [
    {
     "data": {
      "image/png": "[encoded data removed]",
      "text/plain": [
       "<matplotlib.figure.Figure at 0x7f1e83dfd590>"
      ]
     },
     "metadata": {},
     "output_type": "display_data"
    }
   ],
   "source": [
    "for spectrum in spectrum_list.to_list():\n",
    "    spectrum.plot(scaled=True)\n",
    "    break"
   ]
  },
  {
   "cell_type": "code",
   "execution_count": null,
   "metadata": {
    "scrolled": true
   },
   "outputs": [],
   "source": [
    "\n"
   ]
  },
  {
   "cell_type": "code",
   "execution_count": 53,
   "metadata": {},
   "outputs": [],
   "source": [
    "processor = dimspy.SpectrumListProcessor(spectrum_list)"
   ]
  },
  {
   "cell_type": "code",
   "execution_count": 54,
   "metadata": {},
   "outputs": [
    {
     "data": {
      "text/plain": [
       "<matplotlib.figure.Figure at 0x7f1e84143a50>"
      ]
     },
     "metadata": {},
     "output_type": "display_data"
    },
    {
     "data": {
      "image/png": "[encoded data removed]",
      "text/plain": [
       "<matplotlib.figure.Figure at 0x7f1e84f997d0>"
      ]
     },
     "metadata": {},
     "output_type": "display_data"
    }
   ],
   "source": [
    "processor.outlier_detection(plot=True, mad_threshold=2)"
   ]
  },
  {
   "cell_type": "code",
   "execution_count": 55,
   "metadata": {},
   "outputs": [
    {
     "name": "stdout",
     "output_type": "stream",
     "text": [
      "dirty1\n",
      "dirty2\n",
      "C030\n",
      "C029\n",
      "MM03\n",
      "MM02\n",
      "MM01\n",
      "MM04\n",
      "C032\n",
      "C027\n"
     ]
    }
   ],
   "source": [
    "for spectrum in processor.to_list():\n",
    "    print spectrum.id"
   ]
  },
  {
   "cell_type": "code",
   "execution_count": 56,
   "metadata": {},
   "outputs": [],
   "source": [
    "for i in processor.to_list():\n",
    "    i.transform()\n",
    "    i.normalise()"
   ]
  },
  {
   "cell_type": "code",
   "execution_count": 57,
   "metadata": {},
   "outputs": [],
   "source": [
    "processor.binning(bin_size=0.25, n_jobs=8, statistic=\"mean\", inplace=True)"
   ]
  },
  {
   "cell_type": "code",
   "execution_count": 58,
   "metadata": {},
   "outputs": [],
   "source": [
    "processor.center(n_jobs=8)"
   ]
  },
  {
   "cell_type": "code",
   "execution_count": 59,
   "metadata": {},
   "outputs": [],
   "source": [
    "processor.value_imputation(threshold=0.8)"
   ]
  },
  {
   "cell_type": "code",
   "execution_count": 60,
   "metadata": {},
   "outputs": [],
   "source": [
    "p_sl = processor.to_spectrumlist()"
   ]
  },
  {
   "cell_type": "code",
   "execution_count": 61,
   "metadata": {},
   "outputs": [
    {
     "data": {
      "text/html": [
       "<div>\n",
       "<style>\n",
       "    .dataframe thead tr:only-child th {\n",
       "        text-align: right;\n",
       "    }\n",
       "\n",
       "    .dataframe thead th {\n",
       "        text-align: left;\n",
       "    }\n",
       "\n",
       "    .dataframe tbody tr th {\n",
       "        vertical-align: top;\n",
       "    }\n",
       "</style>\n",
       "<table border=\"1\" class=\"dataframe\">\n",
       "  <thead>\n",
       "    <tr style=\"text-align: right;\">\n",
       "      <th></th>\n",
       "      <th>55.0</th>\n",
       "      <th>55.5</th>\n",
       "      <th>55.75</th>\n",
       "      <th>56.0</th>\n",
       "      <th>56.25</th>\n",
       "      <th>56.5</th>\n",
       "      <th>56.75</th>\n",
       "      <th>57.0</th>\n",
       "      <th>57.25</th>\n",
       "      <th>57.5</th>\n",
       "      <th>...</th>\n",
       "      <th>878.75</th>\n",
       "      <th>884.25</th>\n",
       "      <th>884.5</th>\n",
       "      <th>885.5</th>\n",
       "      <th>893.5</th>\n",
       "      <th>902.5</th>\n",
       "      <th>907.5</th>\n",
       "      <th>923.5</th>\n",
       "      <th>935.75</th>\n",
       "      <th>961.5</th>\n",
       "    </tr>\n",
       "  </thead>\n",
       "  <tbody>\n",
       "    <tr>\n",
       "      <th>dirty1</th>\n",
       "      <td>0.000449</td>\n",
       "      <td>0.000352</td>\n",
       "      <td>0.000362</td>\n",
       "      <td>0.000561</td>\n",
       "      <td>0.000369</td>\n",
       "      <td>0.000371</td>\n",
       "      <td>0.000358</td>\n",
       "      <td>0.000374</td>\n",
       "      <td>0.000348</td>\n",
       "      <td>0.000350</td>\n",
       "      <td>...</td>\n",
       "      <td>0.000354</td>\n",
       "      <td>0.000367</td>\n",
       "      <td>0.000395</td>\n",
       "      <td>0.000353</td>\n",
       "      <td>0.000363</td>\n",
       "      <td>0.000361</td>\n",
       "      <td>0.000363</td>\n",
       "      <td>0.000351</td>\n",
       "      <td>0.000372</td>\n",
       "      <td>0.000370</td>\n",
       "    </tr>\n",
       "    <tr>\n",
       "      <th>dirty2</th>\n",
       "      <td>0.000410</td>\n",
       "      <td>0.000355</td>\n",
       "      <td>0.000365</td>\n",
       "      <td>0.000391</td>\n",
       "      <td>0.000346</td>\n",
       "      <td>0.000345</td>\n",
       "      <td>0.000407</td>\n",
       "      <td>0.000367</td>\n",
       "      <td>0.000362</td>\n",
       "      <td>0.000318</td>\n",
       "      <td>...</td>\n",
       "      <td>0.000370</td>\n",
       "      <td>0.000368</td>\n",
       "      <td>0.000371</td>\n",
       "      <td>0.000372</td>\n",
       "      <td>0.000396</td>\n",
       "      <td>0.000372</td>\n",
       "      <td>0.000391</td>\n",
       "      <td>0.000362</td>\n",
       "      <td>0.000428</td>\n",
       "      <td>0.000369</td>\n",
       "    </tr>\n",
       "    <tr>\n",
       "      <th>C030</th>\n",
       "      <td>0.000637</td>\n",
       "      <td>0.000581</td>\n",
       "      <td>0.000578</td>\n",
       "      <td>0.000643</td>\n",
       "      <td>0.000592</td>\n",
       "      <td>0.000588</td>\n",
       "      <td>0.000583</td>\n",
       "      <td>0.000580</td>\n",
       "      <td>0.000594</td>\n",
       "      <td>0.000579</td>\n",
       "      <td>...</td>\n",
       "      <td>0.000384</td>\n",
       "      <td>0.000354</td>\n",
       "      <td>0.000711</td>\n",
       "      <td>0.000593</td>\n",
       "      <td>0.000653</td>\n",
       "      <td>0.000557</td>\n",
       "      <td>0.000390</td>\n",
       "      <td>0.000391</td>\n",
       "      <td>0.000402</td>\n",
       "      <td>0.000525</td>\n",
       "    </tr>\n",
       "    <tr>\n",
       "      <th>C029</th>\n",
       "      <td>0.000462</td>\n",
       "      <td>0.000359</td>\n",
       "      <td>0.000347</td>\n",
       "      <td>0.000389</td>\n",
       "      <td>0.000413</td>\n",
       "      <td>0.000352</td>\n",
       "      <td>0.000348</td>\n",
       "      <td>0.000415</td>\n",
       "      <td>0.000356</td>\n",
       "      <td>0.000352</td>\n",
       "      <td>...</td>\n",
       "      <td>0.000348</td>\n",
       "      <td>0.000345</td>\n",
       "      <td>0.000386</td>\n",
       "      <td>0.000345</td>\n",
       "      <td>0.000405</td>\n",
       "      <td>0.000433</td>\n",
       "      <td>0.000384</td>\n",
       "      <td>0.000394</td>\n",
       "      <td>0.000372</td>\n",
       "      <td>0.000345</td>\n",
       "    </tr>\n",
       "    <tr>\n",
       "      <th>MM03</th>\n",
       "      <td>0.000250</td>\n",
       "      <td>0.000223</td>\n",
       "      <td>0.000232</td>\n",
       "      <td>0.000293</td>\n",
       "      <td>0.000241</td>\n",
       "      <td>0.000235</td>\n",
       "      <td>0.000236</td>\n",
       "      <td>0.000247</td>\n",
       "      <td>0.000238</td>\n",
       "      <td>0.000232</td>\n",
       "      <td>...</td>\n",
       "      <td>0.000227</td>\n",
       "      <td>0.000254</td>\n",
       "      <td>0.000268</td>\n",
       "      <td>0.000234</td>\n",
       "      <td>0.000253</td>\n",
       "      <td>0.000259</td>\n",
       "      <td>0.000243</td>\n",
       "      <td>0.000251</td>\n",
       "      <td>0.000247</td>\n",
       "      <td>0.000260</td>\n",
       "    </tr>\n",
       "    <tr>\n",
       "      <th>MM02</th>\n",
       "      <td>0.000513</td>\n",
       "      <td>0.000441</td>\n",
       "      <td>0.000450</td>\n",
       "      <td>0.000580</td>\n",
       "      <td>0.000421</td>\n",
       "      <td>0.000423</td>\n",
       "      <td>0.000439</td>\n",
       "      <td>0.000536</td>\n",
       "      <td>0.000397</td>\n",
       "      <td>0.000435</td>\n",
       "      <td>...</td>\n",
       "      <td>0.000384</td>\n",
       "      <td>0.000440</td>\n",
       "      <td>0.000408</td>\n",
       "      <td>0.000490</td>\n",
       "      <td>0.000421</td>\n",
       "      <td>0.000378</td>\n",
       "      <td>0.000390</td>\n",
       "      <td>0.000391</td>\n",
       "      <td>0.000414</td>\n",
       "      <td>0.000432</td>\n",
       "    </tr>\n",
       "    <tr>\n",
       "      <th>MM01</th>\n",
       "      <td>0.000390</td>\n",
       "      <td>0.000354</td>\n",
       "      <td>0.000339</td>\n",
       "      <td>0.000426</td>\n",
       "      <td>0.000345</td>\n",
       "      <td>0.000348</td>\n",
       "      <td>0.000351</td>\n",
       "      <td>0.000371</td>\n",
       "      <td>0.000337</td>\n",
       "      <td>0.000344</td>\n",
       "      <td>...</td>\n",
       "      <td>0.000362</td>\n",
       "      <td>0.000343</td>\n",
       "      <td>0.000352</td>\n",
       "      <td>0.000377</td>\n",
       "      <td>0.000429</td>\n",
       "      <td>0.000344</td>\n",
       "      <td>0.000407</td>\n",
       "      <td>0.000340</td>\n",
       "      <td>0.000415</td>\n",
       "      <td>0.000333</td>\n",
       "    </tr>\n",
       "    <tr>\n",
       "      <th>MM04</th>\n",
       "      <td>0.000302</td>\n",
       "      <td>0.000277</td>\n",
       "      <td>0.000286</td>\n",
       "      <td>0.000299</td>\n",
       "      <td>0.000278</td>\n",
       "      <td>0.000262</td>\n",
       "      <td>0.000266</td>\n",
       "      <td>0.000292</td>\n",
       "      <td>0.000249</td>\n",
       "      <td>0.000270</td>\n",
       "      <td>...</td>\n",
       "      <td>0.000271</td>\n",
       "      <td>0.000293</td>\n",
       "      <td>0.000292</td>\n",
       "      <td>0.000301</td>\n",
       "      <td>0.000289</td>\n",
       "      <td>0.000309</td>\n",
       "      <td>0.000268</td>\n",
       "      <td>0.000279</td>\n",
       "      <td>0.000289</td>\n",
       "      <td>0.000278</td>\n",
       "    </tr>\n",
       "    <tr>\n",
       "      <th>C032</th>\n",
       "      <td>0.000475</td>\n",
       "      <td>0.000387</td>\n",
       "      <td>0.000386</td>\n",
       "      <td>0.000415</td>\n",
       "      <td>0.000394</td>\n",
       "      <td>0.000383</td>\n",
       "      <td>0.000388</td>\n",
       "      <td>0.000439</td>\n",
       "      <td>0.000380</td>\n",
       "      <td>0.000381</td>\n",
       "      <td>...</td>\n",
       "      <td>0.000380</td>\n",
       "      <td>0.000422</td>\n",
       "      <td>0.000487</td>\n",
       "      <td>0.000499</td>\n",
       "      <td>0.000386</td>\n",
       "      <td>0.000391</td>\n",
       "      <td>0.000397</td>\n",
       "      <td>0.000413</td>\n",
       "      <td>0.000376</td>\n",
       "      <td>0.000407</td>\n",
       "    </tr>\n",
       "    <tr>\n",
       "      <th>C027</th>\n",
       "      <td>0.000776</td>\n",
       "      <td>0.000370</td>\n",
       "      <td>0.000716</td>\n",
       "      <td>0.000883</td>\n",
       "      <td>0.000731</td>\n",
       "      <td>0.000687</td>\n",
       "      <td>0.000697</td>\n",
       "      <td>0.000765</td>\n",
       "      <td>0.000713</td>\n",
       "      <td>0.000362</td>\n",
       "      <td>...</td>\n",
       "      <td>0.000761</td>\n",
       "      <td>0.000354</td>\n",
       "      <td>0.000408</td>\n",
       "      <td>0.000396</td>\n",
       "      <td>0.000695</td>\n",
       "      <td>0.000378</td>\n",
       "      <td>0.000667</td>\n",
       "      <td>0.000738</td>\n",
       "      <td>0.000707</td>\n",
       "      <td>0.000369</td>\n",
       "    </tr>\n",
       "  </tbody>\n",
       "</table>\n",
       "<p>10 rows × 15740 columns</p>\n",
       "</div>"
      ],
      "text/plain": [
       "          55.00     55.50     55.75     56.00     56.25     56.50     56.75   \\\n",
       "dirty1  0.000449  0.000352  0.000362  0.000561  0.000369  0.000371  0.000358   \n",
       "dirty2  0.000410  0.000355  0.000365  0.000391  0.000346  0.000345  0.000407   \n",
       "C030    0.000637  0.000581  0.000578  0.000643  0.000592  0.000588  0.000583   \n",
       "C029    0.000462  0.000359  0.000347  0.000389  0.000413  0.000352  0.000348   \n",
       "MM03    0.000250  0.000223  0.000232  0.000293  0.000241  0.000235  0.000236   \n",
       "MM02    0.000513  0.000441  0.000450  0.000580  0.000421  0.000423  0.000439   \n",
       "MM01    0.000390  0.000354  0.000339  0.000426  0.000345  0.000348  0.000351   \n",
       "MM04    0.000302  0.000277  0.000286  0.000299  0.000278  0.000262  0.000266   \n",
       "C032    0.000475  0.000387  0.000386  0.000415  0.000394  0.000383  0.000388   \n",
       "C027    0.000776  0.000370  0.000716  0.000883  0.000731  0.000687  0.000697   \n",
       "\n",
       "          57.00     57.25     57.50     ...       878.75    884.25    884.50  \\\n",
       "dirty1  0.000374  0.000348  0.000350    ...     0.000354  0.000367  0.000395   \n",
       "dirty2  0.000367  0.000362  0.000318    ...     0.000370  0.000368  0.000371   \n",
       "C030    0.000580  0.000594  0.000579    ...     0.000384  0.000354  0.000711   \n",
       "C029    0.000415  0.000356  0.000352    ...     0.000348  0.000345  0.000386   \n",
       "MM03    0.000247  0.000238  0.000232    ...     0.000227  0.000254  0.000268   \n",
       "MM02    0.000536  0.000397  0.000435    ...     0.000384  0.000440  0.000408   \n",
       "MM01    0.000371  0.000337  0.000344    ...     0.000362  0.000343  0.000352   \n",
       "MM04    0.000292  0.000249  0.000270    ...     0.000271  0.000293  0.000292   \n",
       "C032    0.000439  0.000380  0.000381    ...     0.000380  0.000422  0.000487   \n",
       "C027    0.000765  0.000713  0.000362    ...     0.000761  0.000354  0.000408   \n",
       "\n",
       "          885.50    893.50    902.50    907.50    923.50    935.75    961.50  \n",
       "dirty1  0.000353  0.000363  0.000361  0.000363  0.000351  0.000372  0.000370  \n",
       "dirty2  0.000372  0.000396  0.000372  0.000391  0.000362  0.000428  0.000369  \n",
       "C030    0.000593  0.000653  0.000557  0.000390  0.000391  0.000402  0.000525  \n",
       "C029    0.000345  0.000405  0.000433  0.000384  0.000394  0.000372  0.000345  \n",
       "MM03    0.000234  0.000253  0.000259  0.000243  0.000251  0.000247  0.000260  \n",
       "MM02    0.000490  0.000421  0.000378  0.000390  0.000391  0.000414  0.000432  \n",
       "MM01    0.000377  0.000429  0.000344  0.000407  0.000340  0.000415  0.000333  \n",
       "MM04    0.000301  0.000289  0.000309  0.000268  0.000279  0.000289  0.000278  \n",
       "C032    0.000499  0.000386  0.000391  0.000397  0.000413  0.000376  0.000407  \n",
       "C027    0.000396  0.000695  0.000378  0.000667  0.000738  0.000707  0.000369  \n",
       "\n",
       "[10 rows x 15740 columns]"
      ]
     },
     "execution_count": 61,
     "metadata": {},
     "output_type": "execute_result"
    }
   ],
   "source": [
    "p_sl.flatten_to_dataframe()"
   ]
  },
  {
   "cell_type": "code",
   "execution_count": 64,
   "metadata": {},
   "outputs": [],
   "source": [
    "p_sl.to_csv(\"/tmp/out.csv\")"
   ]
  },
  {
   "cell_type": "code",
   "execution_count": null,
   "metadata": {},
   "outputs": [],
   "source": []
  }
 ],
 "metadata": {
  "kernelspec": {
   "display_name": "Python 2",
   "language": "python",
   "name": "python2"
  },
  "language_info": {
   "codemirror_mode": {
    "name": "ipython",
    "version": 2
   },
   "file_extension": ".py",
   "mimetype": "text/x-python",
   "name": "python",
   "nbconvert_exporter": "python",
   "pygments_lexer": "ipython2",
   "version": "2.7.12"
  }
 },
 "nbformat": 4,
 "nbformat_minor": 2
}
