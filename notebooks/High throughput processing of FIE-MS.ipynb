{
 "cells": [
  {
   "cell_type": "markdown",
   "metadata": {},
   "source": [
    "# Simple high thoughput nontargeted direct-infusion mass spectrometry processing using dimepy.\n",
    "\n",
    "This example focuses on the generation of low resolution spectra, resultiing in a matrix containing binned nominal mass spectrum - ideal for further statistical analysis/machine learning.\n",
    "\n",
    "Much of this protocol has been adapted from **High-throughput, nontargeted metabolite fingerprinting using nominal mass flow injection electrospray mass spectrometry** by Beckmann et al.\n",
    "\n",
    "To begin, we need to load in a couple of libraries:"
   ]
  },
  {
   "cell_type": "code",
   "execution_count": 1,
   "metadata": {},
   "outputs": [],
   "source": [
    "# The dimepy package.\n",
    "import dimepy\n",
    "# Python's standard operating system interface.\n",
    "import os"
   ]
  },
  {
   "cell_type": "markdown",
   "metadata": {},
   "source": [
    "Whilst it isn't required for us to load in the ```os``` library, it should make dealing with input/output a lot simpler.\n",
    "\n",
    "Now we can begin setting our basic variables: \n",
    "\n",
    "*Note: this is by no means a 'one size fits all' approach, getting the best quality output takes plenty of trial and error*"
   ]
  },
  {
   "cell_type": "code",
   "execution_count": 2,
   "metadata": {},
   "outputs": [],
   "source": [
    "# The directory where our mzML files are located.\n",
    "data_dir = \"/home/keo7/Data/dimepy-example/\"\n",
    "\n",
    "# The total number of threads to use for processing, 1 is the default.\n",
    "n_jobs = 8\n",
    "\n",
    "# The polarity you're interested in analysing.\n",
    "polarity = \"positive\"\n",
    "\n",
    "# The parameters fed in to the mzML -> raw values converter.\n",
    "processing_parameters = {\n",
    "    \"MS1 Precision\" : 1e-3, # Precision of MS1 runs.\n",
    "    \"MSn Precision\" : 1e-3, # Precision of MSn runs.\n",
    "    \"Measured Precision\" : 1e-3, # Precision of loaded spectrum.\n",
    "    \"Scan Range\" : \"apex\", # \"apex\" identifies and limits the read scans to \"likely sample\". \n",
    "    \"Peak Type\" : \"peaks\" # whether you want the raw peaks, or make use of centroid-aided peak detection.\n",
    "}"
   ]
  },
  {
   "cell_type": "markdown",
   "metadata": {},
   "source": [
    "Just for peace of mind we can make use of the ```listdr``` method within the ```os``` library to ensure that our folder configurations are set-up correctly:"
   ]
  },
  {
   "cell_type": "code",
   "execution_count": 3,
   "metadata": {},
   "outputs": [
    {
     "data": {
      "text/plain": [
       "['dirty1.mzML', 'dirty2.mzML', 'MM02.mzML', 'MM01.mzML', 'C027.mzML']"
      ]
     },
     "execution_count": 3,
     "metadata": {},
     "output_type": "execute_result"
    }
   ],
   "source": [
    "os.listdir(data_dir)"
   ]
  },
  {
   "cell_type": "markdown",
   "metadata": {},
   "source": [
    "Before we process the files, we need somewhere to store our loaded spectrum. Whilst a standard python list (```[]```) will suffice for storage alone, we also want to make use of inbuilt methods provided by ```dimepy```. To do this, instanciate a new SpectrumList object. "
   ]
  },
  {
   "cell_type": "code",
   "execution_count": 4,
   "metadata": {},
   "outputs": [],
   "source": [
    "spectrum_list = dimepy.SpectrumList()"
   ]
  },
  {
   "cell_type": "markdown",
   "metadata": {},
   "source": [
    "Now we're ready to start looping through our files and processing the ```.mzML``` files. Whilst it's not entirely necessary, it's highly advised to also provide injection order information as to make full use of the processing package. "
   ]
  },
  {
   "cell_type": "code",
   "execution_count": 5,
   "metadata": {},
   "outputs": [
    {
     "name": "stdout",
     "output_type": "stream",
     "text": [
      "Processing dirty1.mzML...\n",
      "Processing dirty2.mzML...\n",
      "Processing MM02.mzML...\n",
      "Processing MM01.mzML...\n",
      "Processing C027.mzML...\n"
     ]
    }
   ],
   "source": [
    "# Creating an injection_order dictonary, containing the file name and injection order.\n",
    "injection_order = {\n",
    "    \"MM02.mzML\" : 2,\n",
    "    \"C027.mzML\" : 8,\n",
    "    \"MM01.mzML\" : 10,\n",
    "    \"dirty1.mzML\" : 11,\n",
    "    \"dirty2.mzML\" : 12\n",
    "}\n",
    "\n",
    "# Looping through the files found in the given data directory.\n",
    "for fn in os.listdir(data_dir):\n",
    "    print \"Processing %s...\" %fn\n",
    "    # Creating a new spectrum object using the parameters we set earlier.\n",
    "    spectrum = dimepy.Spectrum(os.path.join(data_dir, fn),\n",
    "                              polarity=polarity,\n",
    "                              parameters=processing_parameters,\n",
    "                              # Stripping the filename by extension (\".mzML\").\n",
    "                              injection_order=injection_order[fn])\n",
    "    # Adding the spectrum to our SpectrumList object.\n",
    "    spectrum_list.append(spectrum)"
   ]
  },
  {
   "cell_type": "markdown",
   "metadata": {},
   "source": [
    "Depending on how much data you're processing, this may take awhile - so pop the kettle on and have a well earned cuppa as you wait for it to process.\n",
    "\n",
    "Once completed, check the ```SpectrumList``` object to ensure that the Spectrum has been loaded in correctly. We can do this by using the ```to_list``` method, which outputs the object as a standard python list:"
   ]
  },
  {
   "cell_type": "code",
   "execution_count": 6,
   "metadata": {},
   "outputs": [
    {
     "data": {
      "text/plain": [
       "[<dimepy.Spectrum.Spectrum at 0x7fd4c86f1c10>,\n",
       " <dimepy.Spectrum.Spectrum at 0x7fd4c86f1350>,\n",
       " <dimepy.Spectrum.Spectrum at 0x7fd4c86f1990>,\n",
       " <dimepy.Spectrum.Spectrum at 0x7fd505608950>,\n",
       " <dimepy.Spectrum.Spectrum at 0x7fd4c7cb31d0>]"
      ]
     },
     "execution_count": 6,
     "metadata": {},
     "output_type": "execute_result"
    }
   ],
   "source": [
    "spectrum_list.to_list()"
   ]
  },
  {
   "cell_type": "markdown",
   "metadata": {},
   "source": [
    "A common problem with mass spectrometry-based experimentation are sample outliers. Due to technical reasons, some data may be considered as being extreme - which may potentially bias any further analysis resulting in unreliable results. Although complex mass/intensity algorithms exist, a quick way of analysing the data is to study each spectrums total ion count.\n",
    "\n",
    "This is fairly simple to achieve, by looping through the Spectrum objects contained our created SpectrumList object:"
   ]
  },
  {
   "cell_type": "code",
   "execution_count": 13,
   "metadata": {},
   "outputs": [
    {
     "name": "stdout",
     "output_type": "stream",
     "text": [
      "Index\tSpectrum ID\tTIC\n",
      "==============================\n",
      "0\tdirty1\t1398899488.600058\n",
      "1\tdirty2\t1441077568.560852\n",
      "2\tMM02\t732144814.084817\n",
      "3\tMM01\t1457447401.063145\n",
      "4\tC027\t1704984053.782753\n"
     ]
    }
   ],
   "source": [
    "print \"Index\\tSpectrum ID\\tTIC\\n==============================\"\n",
    "for index, spectrum in enumerate(spectrum_list.to_list()):\n",
    "    print \"%i\\t%s\\t%f\" % (index, spectrum.id, sum(spectrum.intensities))"
   ]
  },
  {
   "cell_type": "markdown",
   "metadata": {},
   "source": [
    "At a quick glance, we can already see that there are a couple of spectum here that are slightly strange. Using the printed index, we can quickly check the mass/intensities to see if there are any strange peaks to be found."
   ]
  },
  {
   "cell_type": "code",
   "execution_count": 16,
   "metadata": {},
   "outputs": [
    {
     "data": {
      "image/png": "[encoded data removed]",
      "text/plain": [
       "<Figure size 432x288 with 1 Axes>"
      ]
     },
     "metadata": {},
     "output_type": "display_data"
    },
    {
     "data": {
      "text/plain": [
       "<Figure size 432x288 with 0 Axes>"
      ]
     },
     "metadata": {},
     "output_type": "display_data"
    }
   ],
   "source": [
    "spectrum_list.to_list()[4].plot(scaled=False)"
   ]
  },
  {
   "cell_type": "markdown",
   "metadata": {},
   "source": [
    "However, doing this for large projects is not really that feasible. Instead we can use fairly basic mean absolute deviation based outlier detection, provided by the ```dimepy``` library.\n",
    "\n",
    "But before we can do this, we need to create a new ```SpectrumListProcessor``` object using our existing ```SpectrumList``` object:"
   ]
  },
  {
   "cell_type": "code",
   "execution_count": 23,
   "metadata": {},
   "outputs": [],
   "source": [
    "processor = dimepy.SpectrumListProcessor(spectrum_list)"
   ]
  },
  {
   "cell_type": "markdown",
   "metadata": {},
   "source": [
    "The ```SpectrumListProcessor``` works in similar fashion to the ```SpectrumList``` object - but contains a couple of useful methods that will greatly ease the  processing steps; as you'll soon see.\n",
    "\n",
    "So now that we have a ```SpectrumListProcessor```, we can continue to use the provided outlier detection method to determine and remove outliers from our dataset:"
   ]
  },
  {
   "cell_type": "code",
   "execution_count": 24,
   "metadata": {
    "scrolled": true
   },
   "outputs": [
    {
     "data": {
      "image/png": "[encoded data removed]",
      "text/plain": [
       "<Figure size 432x288 with 1 Axes>"
      ]
     },
     "metadata": {},
     "output_type": "display_data"
    }
   ],
   "source": [
    "processor.outlier_detection(plot=True, mad_threshold=3)"
   ]
  },
  {
   "cell_type": "markdown",
   "metadata": {},
   "source": [
    "As you can see, the algorithm has correctly identified likely outliers. However, please note that 1 MAD is an unreasonable parameter for most large experimentations."
   ]
  },
  {
   "cell_type": "code",
   "execution_count": 25,
   "metadata": {},
   "outputs": [],
   "source": [
    "processor.binning(bin_size=0.1, statistic=\"mean\", inplace=True)"
   ]
  },
  {
   "cell_type": "code",
   "execution_count": 26,
   "metadata": {},
   "outputs": [],
   "source": [
    "processor.value_imputation(method=\"basic\", threshold=0.5, inplace=True)"
   ]
  },
  {
   "cell_type": "code",
   "execution_count": 27,
   "metadata": {},
   "outputs": [],
   "source": [
    "processor.normalise(method=\"median\")\n",
    "processor.transform(method=\"log10\")"
   ]
  },
  {
   "cell_type": "code",
   "execution_count": null,
   "metadata": {},
   "outputs": [],
   "source": []
  },
  {
   "cell_type": "code",
   "execution_count": null,
   "metadata": {},
   "outputs": [],
   "source": []
  }
 ],
 "metadata": {
  "kernelspec": {
   "display_name": "Python 2",
   "language": "python",
   "name": "python2"
  },
  "language_info": {
   "codemirror_mode": {
    "name": "ipython",
    "version": 2
   },
   "file_extension": ".py",
   "mimetype": "text/x-python",
   "name": "python",
   "nbconvert_exporter": "python",
   "pygments_lexer": "ipython2",
   "version": "2.7.12"
  }
 },
 "nbformat": 4,
 "nbformat_minor": 2
}
