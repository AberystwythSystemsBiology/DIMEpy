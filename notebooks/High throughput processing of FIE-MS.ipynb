{
 "cells": [
  {
   "cell_type": "markdown",
   "metadata": {},
   "source": [
    "# Simple high thoughput nontargeted direct-infusion mass spectrometry processing using dimspy.\n",
    "\n",
    "This example focuses on the generation of low resolution spectra, resultiing in a matrix containing binned nominal mass spectrum - ideal for further statistical analysis/machine learning.\n",
    "\n",
    "Much of this protocol has been adapted from **High-throughput, nontargeted metabolite fingerprinting using nominal mass flow injection\n",
    "electrospray mass spectrometry** by Beckmann et al.\n",
    "\n",
    "To begin, we need to load in a couple of libraries:"
   ]
  },
  {
   "cell_type": "code",
   "execution_count": 1,
   "metadata": {},
   "outputs": [],
   "source": [
    "# The dimspy package.\n",
    "import dimspy\n",
    "# Python's standard operating system interface.\n",
    "import os"
   ]
  },
  {
   "cell_type": "markdown",
   "metadata": {},
   "source": [
    "Whilst it isn't required for us to load in the ```os``` library, it should make dealing with input/output a lot simpler.\n",
    "\n",
    "Now we can begin setting our basic variables: \n",
    "\n",
    "*Note: this is by no means a 'one size fits all' approach, getting the best quality output takes plenty of trial and error*"
   ]
  },
  {
   "cell_type": "code",
   "execution_count": 2,
   "metadata": {},
   "outputs": [],
   "source": [
    "# The directory where our mzML files are located.\n",
    "data_dir = \"/home/keo7/Data/dimspy-example/\"\n",
    "\n",
    "# The total number of threads to use for processing, 1 is the default.\n",
    "n_jobs = 16\n",
    "\n",
    "# The polarity you're interested in analysing.\n",
    "polarity = \"positive\"\n",
    "\n",
    "# The parameters fed in to the mzML -> raw values converter.\n",
    "processing_parameters = {\n",
    "    \"MS1 Precision\" : 5e-6, # Precision of MS1 runs.\n",
    "    \"MSn Precision\" : 5e-6, # Precision of MSn runs.\n",
    "    \"Measured Precision\" : 5e-6, # Precision of loaded spectrum.\n",
    "    \"Scan Range\" : \"apex\", # \"apex\" identifies and limits the read scans to \"likely sample\". \n",
    "    \"Peak Type\" : \"peaks\" # whether you want the raw peaks, or make use of centroid-aided peak detection.\n",
    "}"
   ]
  },
  {
   "cell_type": "markdown",
   "metadata": {},
   "source": [
    "Just for peace of mind we can make use of the ```listdr``` method within the ```os``` library to ensure that our folder configurations are set-up correctly:"
   ]
  },
  {
   "cell_type": "code",
   "execution_count": 4,
   "metadata": {},
   "outputs": [
    {
     "data": {
      "text/plain": [
       "['dirty1.mzML',\n",
       " 'dirty2.mzML',\n",
       " 'C030.mzML',\n",
       " 'C029.mzML',\n",
       " 'MM03.mzML',\n",
       " 'ctrl02.mzML',\n",
       " 'MM02.mzML',\n",
       " 'MM01.mzML',\n",
       " 'MM04.mzML',\n",
       " 'C032.mzML',\n",
       " 'C027.mzML',\n",
       " 'ctrl01.mzML']"
      ]
     },
     "execution_count": 4,
     "metadata": {},
     "output_type": "execute_result"
    }
   ],
   "source": [
    "os.listdir(data_dir)"
   ]
  },
  {
   "cell_type": "markdown",
   "metadata": {},
   "source": [
    "Before we process the files, we need somewhere to store our loaded spectrum. Whilst a standard python list (```[]```) will suffice for storage alone, we also want to make use of inbuilt methods provided by ```dimspy```. To do this, instanciate a new SpectrumList object. "
   ]
  },
  {
   "cell_type": "code",
   "execution_count": 5,
   "metadata": {},
   "outputs": [],
   "source": [
    "spectrum_list = dimspy.SpectrumList()"
   ]
  },
  {
   "cell_type": "markdown",
   "metadata": {},
   "source": [
    "Now we're ready to start looping through our files and processing the ```.mzML``` files. Whilst it's not entirely necessary, it's highly advised to also provide injection order information as to make full use of the processing package. "
   ]
  },
  {
   "cell_type": "code",
   "execution_count": 8,
   "metadata": {},
   "outputs": [],
   "source": [
    "# Creating an injection_order dictonary, containing the file name and injection order.\n",
    "injection_order = {\n",
    "    \"C029\" : 1,\n",
    "    \"MM02\" : 2,\n",
    "    \"C030\" : 3,\n",
    "    \"MM03\" : 4,\n",
    "    \"ctrl02\" : 5,\n",
    "    \"ctrl01\": 6,\n",
    "    \"MM04\" : 7,\n",
    "    \"C027\" : 8,\n",
    "    \"C032\" : 9,\n",
    "    \"MM01\" : 10,\n",
    "    \"dirty1\" : 11,\n",
    "    \"dirty2\" : 12\n",
    "}\n",
    "\n",
    "# Looping through the files found in the given data directory.\n",
    "for file in os.listdir(data_dir):\n",
    "    # Creating a new spectrum object using the parameters we set earlier.\n",
    "    spectrum = dimspy.Spectrum(os.path.join(data_dir, file),\n",
    "                              polarity=polarity,\n",
    "                              parameters=processing_parameters,\n",
    "                              # Splitting the filename by extension (\".\").\n",
    "                              injection_order=injection_order[file.split(\".\")[0]])\n",
    "    # Adding the spectrum to our SpectrumList object.\n",
    "    spectrum_list.append(spectrum)"
   ]
  },
  {
   "cell_type": "markdown",
   "metadata": {},
   "source": [
    "Depending on how much data you're processing, this may take awhile - so pop the kettle on and have a well earned cuppa as you wait for it to process.\n",
    "\n",
    "Once completed, check the ```SpectrumList``` object to ensure that the Spectrum has been loaded in correctly. We can do this by using the ```to_list``` method, which outputs the object as a standard python list:"
   ]
  },
  {
   "cell_type": "code",
   "execution_count": 9,
   "metadata": {},
   "outputs": [
    {
     "data": {
      "text/plain": [
       "[<dimspy.Spectrum.Spectrum at 0x7f66c3416650>,\n",
       " <dimspy.Spectrum.Spectrum at 0x7f66c34b5750>,\n",
       " <dimspy.Spectrum.Spectrum at 0x7f66c3416d50>,\n",
       " <dimspy.Spectrum.Spectrum at 0x7f66c3401d90>,\n",
       " <dimspy.Spectrum.Spectrum at 0x7f66c3d938d0>,\n",
       " <dimspy.Spectrum.Spectrum at 0x7f66c3d93110>,\n",
       " <dimspy.Spectrum.Spectrum at 0x7f66c344e610>,\n",
       " <dimspy.Spectrum.Spectrum at 0x7f66e8abdad0>,\n",
       " <dimspy.Spectrum.Spectrum at 0x7f66e8abdb50>,\n",
       " <dimspy.Spectrum.Spectrum at 0x7f66c42f3bd0>,\n",
       " <dimspy.Spectrum.Spectrum at 0x7f66c42f3750>,\n",
       " <dimspy.Spectrum.Spectrum at 0x7f6708b76110>,\n",
       " <dimspy.Spectrum.Spectrum at 0x7f66c2edd250>]"
      ]
     },
     "execution_count": 9,
     "metadata": {},
     "output_type": "execute_result"
    }
   ],
   "source": [
    "spectrum_list.to_list()"
   ]
  },
  {
   "cell_type": "markdown",
   "metadata": {},
   "source": [
    "A common problem with mass spectrometry-based experimentation are sample outliers. Due to technical reasons, some data may be considered as being extreme - which may potentially bias any further analysis resulting in unreliable results. Although complex mass/intensity algorithms exist, a quick way of analysing the data is to study each spectrums total ion count.\n",
    "\n",
    "This is fairly simple to achieve, by looping through the Spectrum objects contained our created SpectrumList object:"
   ]
  },
  {
   "cell_type": "code",
   "execution_count": 11,
   "metadata": {},
   "outputs": [
    {
     "name": "stdout",
     "output_type": "stream",
     "text": [
      "Index\tSpectrum ID\tTIC\n",
      "0 dirty1 \t1534647870.94\n",
      "1 dirty1 \t1534647870.94\n",
      "2 dirty2 \t1587652708.13\n",
      "3 C030 \t1692764584.72\n",
      "4 C029 \t1704470451.62\n",
      "5 MM03 \t1581395012.06\n",
      "6 ctrl02 \t277392398.316\n",
      "7 MM02 \t786439893.079\n",
      "8 MM01 \t1610044026.99\n",
      "9 MM04 \t1587958764.5\n",
      "10 C032 \t1282024763.88\n",
      "11 C027 \t1854677916.16\n",
      "12 ctrl01 \t339452598.892\n"
     ]
    }
   ],
   "source": [
    "print \"Index\\tSpectrum ID\\tTIC\"\n",
    "for index, spectrum in enumerate(spectrum_list.to_list()):\n",
    "    print index, spectrum.id, \"\\t\", sum(spectrum.intensities)"
   ]
  },
  {
   "cell_type": "markdown",
   "metadata": {},
   "source": [
    "At a quick glance, we can already see that there are a couple of spectum here that are slightly strange. Using the printed index, we can quickly check the mass/intensities to see if there are any strange peaks to be found."
   ]
  },
  {
   "cell_type": "code",
   "execution_count": 12,
   "metadata": {},
   "outputs": [
    {
     "data": {
      "image/png": "[encoded data removed]",
      "text/plain": [
       "<matplotlib.figure.Figure at 0x7f66c1e93990>"
      ]
     },
     "metadata": {},
     "output_type": "display_data"
    }
   ],
   "source": [
    "spectrum_list.to_list()[12].plot(scaled=False)"
   ]
  },
  {
   "cell_type": "markdown",
   "metadata": {},
   "source": [
    "However, doing this for large projects is not really that feasible. Instead we can use fairly basic mean absolute deviation based outlier detection, provided by the ```dimspy``` library.\n",
    "\n",
    "But before we can do this, we need to create a new ```SpectrumListProcessor``` object using our existing ```SpectrumList``` object:"
   ]
  },
  {
   "cell_type": "code",
   "execution_count": 13,
   "metadata": {},
   "outputs": [],
   "source": [
    "processor = dimspy.SpectrumListProcessor(spectrum_list)"
   ]
  },
  {
   "cell_type": "markdown",
   "metadata": {},
   "source": [
    "The ```SpectrumListProcessor``` works in similar fashion to the ```SpectrumList``` object - but contains a couple of useful methods that will greatly ease the  processing steps; as you'll soon see.\n",
    "\n",
    "So now that we have a ```SpectrumListProcessor```, we can continue to use the provided outlier detection method to determine and remove outliers from our dataset:"
   ]
  },
  {
   "cell_type": "code",
   "execution_count": 14,
   "metadata": {},
   "outputs": [
    {
     "name": "stderr",
     "output_type": "stream",
     "text": [
      "/home/keo7/.virtualenvs/dimspy/local/lib/python2.7/site-packages/dimspy/SpectrumListProcessor.py:56: UserWarning:\n",
      "\n",
      "Outlier detection removed: ctrl02,MM02,C027,ctrl01\n",
      "\n"
     ]
    },
    {
     "data": {
      "text/plain": [
       "<matplotlib.figure.Figure at 0x7f66c24cb350>"
      ]
     },
     "metadata": {},
     "output_type": "display_data"
    },
    {
     "data": {
      "image/png": "[encoded data removed]",
      "text/plain": [
       "<matplotlib.figure.Figure at 0x7f66c3416b90>"
      ]
     },
     "metadata": {},
     "output_type": "display_data"
    }
   ],
   "source": [
    "processor.outlier_detection(plot=True, mad_threshold=1)"
   ]
  },
  {
   "cell_type": "code",
   "execution_count": null,
   "metadata": {},
   "outputs": [],
   "source": [
    "As you can see, the algorithm has correctly identified likely outliers. However, please note that 1 MAD"
   ]
  },
  {
   "cell_type": "code",
   "execution_count": null,
   "metadata": {},
   "outputs": [],
   "source": [
    "processor.binning(bin_size=0.25,\n",
    "                  n_jobs=n_jobs,\n",
    "                  statistic=\"mean\",\n",
    "                  inplace=True)"
   ]
  },
  {
   "cell_type": "code",
   "execution_count": null,
   "metadata": {},
   "outputs": [],
   "source": [
    "processor.center(n_jobs=n_jobs)"
   ]
  },
  {
   "cell_type": "code",
   "execution_count": null,
   "metadata": {},
   "outputs": [],
   "source": [
    "processor.value_imputation(method=\"tic\",\n",
    "                           threshold=0.85)"
   ]
  },
  {
   "cell_type": "code",
   "execution_count": null,
   "metadata": {},
   "outputs": [],
   "source": [
    "binned_spectrum = processor.to_spectrumlist()\n",
    "b_df = binned_spectrum.flatten_to_dataframe()\n",
    "\n",
    "import matplotlib.pyplot as plt\n",
    "plt.figure()\n",
    "b_df.T.plot()\n",
    "plt.show()"
   ]
  },
  {
   "cell_type": "code",
   "execution_count": null,
   "metadata": {},
   "outputs": [],
   "source": []
  }
 ],
 "metadata": {
  "kernelspec": {
   "display_name": "Python 2",
   "language": "python",
   "name": "python2"
  },
  "language_info": {
   "codemirror_mode": {
    "name": "ipython",
    "version": 2
   },
   "file_extension": ".py",
   "mimetype": "text/x-python",
   "name": "python",
   "nbconvert_exporter": "python",
   "pygments_lexer": "ipython2",
   "version": "2.7.12"
  }
 },
 "nbformat": 4,
 "nbformat_minor": 2
}
